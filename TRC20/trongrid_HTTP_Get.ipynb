{
 "cells": [
  {
   "cell_type": "code",
   "execution_count": 2,
   "metadata": {},
   "outputs": [],
   "source": [
    "import requests\n",
    "import json\n",
    "import time\n",
    "\n",
    "myaddress = 'TW7eKyRw8ow98fpFibLe84qKwSbrvuD1KB' #no txn related to this address in mainnet so far\n",
    "address_example = 'TUD4YXYdj2t1gP5th3A7t97mx1AUmrrQRt' #example address in tron offcial doc, can be used to retrieve sample txn from mainnet\n",
    "address_DEX = 'TAUN6FwrnwwmaEqYcckffC7wYmbaS6cBiX' #a D-exchange address, actively sending/recieving USDT on mainnet \n",
    "trc20_USDT = 'TR7NHqjeKQxGTCi8q8ZY4pL8otSzgjLj6t'"
   ]
  },
  {
   "cell_type": "code",
   "execution_count": 3,
   "metadata": {},
   "outputs": [
    {
     "data": {
      "text/plain": [
       "(28180718, 1614933141000)"
      ]
     },
     "execution_count": 3,
     "metadata": {},
     "output_type": "execute_result"
    }
   ],
   "source": [
    "def get_latest_block():\n",
    "    #return the latest block number and ts on mainnet \n",
    "    url = \"https://api.trongrid.io/v1/blocks/latest/events\"\n",
    "    response = requests.request(\"GET\", url)\n",
    "\n",
    "    block_number = json.loads(response.text)['data'][0]['block_number']\n",
    "    block_ts = json.loads(response.text)['data'][0]['block_timestamp']\n",
    "    \n",
    "    return block_number, block_ts\n",
    "\n",
    "get_latest_block()"
   ]
  },
  {
   "cell_type": "markdown",
   "metadata": {},
   "source": [
    "# 1.根据钱包地址"
   ]
  },
  {
   "cell_type": "markdown",
   "metadata": {},
   "source": [
    "#### 获取账户详情"
   ]
  },
  {
   "cell_type": "code",
   "execution_count": 4,
   "metadata": {},
   "outputs": [
    {
     "name": "stdout",
     "output_type": "stream",
     "text": [
      "dict_keys(['owner_permission', 'account_resource', 'active_permission', 'address', 'create_time', 'latest_consume_time', 'allowance', 'latest_opration_time', 'free_asset_net_usageV2', 'is_witness', 'free_net_usage', 'assetV2', 'balance', 'trc20', 'latest_consume_free_time', 'account_name', 'latest_withdraw_time', 'witness_permission'])\n"
     ]
    }
   ],
   "source": [
    "url_get_account = 'https://api.trongrid.io/v1/accounts/{address}'.format(address = address_example)\n",
    "response = requests.request(\"GET\", url_get_account)\n",
    "print(json.loads(response.text)['data'][0].keys())"
   ]
  },
  {
   "cell_type": "markdown",
   "metadata": {},
   "source": [
    "#### 获取账户的历史交易"
   ]
  },
  {
   "cell_type": "code",
   "execution_count": 5,
   "metadata": {},
   "outputs": [
    {
     "name": "stdout",
     "output_type": "stream",
     "text": [
      "{'ret': [{'contractRet': 'SUCCESS', 'fee': 2096500}], 'signature': ['731a5af1963dc8b9d905d21b2669fa75e345ea64413e93493d86439e578aa7f107c97872ff94e4e12a9ff1027f11cf3883b8f085ab380755c1706dc3b914da4f01'], 'txID': 'de07e4534bc446afafae6e695023e3efd49ef04cc77aa147ba4d3ffc9133c09d', 'net_usage': 0, 'raw_data_hex': '0a0200e722083481f3004e23a69040e0fc928c802f5aae01081f12a9010a31747970652e676f6f676c65617069732e636f6d2f70726f746f636f6c2e54726967676572536d617274436f6e747261637412740a15410583a68a3bcd86c25ab1bee482bac04a216b0261121541a614f803b6fd780986a42c78ec9c7f77e6ded13c2244a9059cbb00000000000000000000004124168572a717bb014fd979f583d50d2486586e4d0000000000000000000000000000000000000000000000000000000004c4b40070a2b98f8c802f900180ade204', 'net_fee': 48300, 'energy_usage': 1, 'blockNumber': 28180713, 'block_timestamp': 1614933126000, 'energy_fee': 2048200, 'energy_usage_total': 14631, 'raw_data': {'contract': [{'parameter': {'value': {'data': 'a9059cbb00000000000000000000004124168572a717bb014fd979f583d50d2486586e4d0000000000000000000000000000000000000000000000000000000004c4b400', 'owner_address': '410583a68a3bcd86c25ab1bee482bac04a216b0261', 'contract_address': '41a614f803b6fd780986a42c78ec9c7f77e6ded13c'}, 'type_url': 'type.googleapis.com/protocol.TriggerSmartContract'}, 'type': 'TriggerSmartContract'}], 'ref_block_bytes': '00e7', 'ref_block_hash': '3481f3004e23a690', 'expiration': 1614933180000, 'fee_limit': 10000000, 'timestamp': 1614933122210}, 'internal_transactions': []}\n"
     ]
    }
   ],
   "source": [
    "url_get_account_txn = 'https://api.trongrid.io/v1/accounts/{address}/transactions'.format(address = address_DEX)\n",
    "response = requests.request(\"GET\", url_get_account_txn)\n",
    "print(json.loads(response.text)['data'][0])"
   ]
  },
  {
   "cell_type": "markdown",
   "metadata": {},
   "source": [
    "#### 获取账户在某一合约下的历史交易"
   ]
  },
  {
   "cell_type": "code",
   "execution_count": 6,
   "metadata": {},
   "outputs": [
    {
     "name": "stdout",
     "output_type": "stream",
     "text": [
      "{'transaction_id': 'de07e4534bc446afafae6e695023e3efd49ef04cc77aa147ba4d3ffc9133c09d', 'token_info': {'symbol': 'USDT', 'address': 'TR7NHqjeKQxGTCi8q8ZY4pL8otSzgjLj6t', 'decimals': 6, 'name': 'Tether USD'}, 'block_timestamp': 1614933126000, 'from': 'TAUN6FwrnwwmaEqYcckffC7wYmbaS6cBiX', 'to': 'TDG2Jmfbh7b1oEmkik1gFGMBKQTnjxHXFY', 'type': 'Transfer', 'value': '80000000'}\n"
     ]
    }
   ],
   "source": [
    "# 增加以下过滤条件，只获取trc20-USDT相关事件\n",
    "url_get_account_txn_trc20 = 'https://api.trongrid.io/v1/accounts/{address}/transactions/trc20'.format(address = address_DEX)\n",
    "querystring = {\"contract_address\":\"TR7NHqjeKQxGTCi8q8ZY4pL8otSzgjLj6t\"}\n",
    "response = requests.request(\"GET\", url_get_account_txn_trc20, params=querystring)\n",
    "print(json.loads(response.text)['data'][0])"
   ]
  },
  {
   "cell_type": "markdown",
   "metadata": {},
   "source": [
    "# 2. 根据合约地址"
   ]
  },
  {
   "cell_type": "markdown",
   "metadata": {},
   "source": [
    "### 获取合约历史交易（暂无websocket订阅方法，只能GET）"
   ]
  },
  {
   "cell_type": "code",
   "execution_count": 7,
   "metadata": {},
   "outputs": [
    {
     "name": "stdout",
     "output_type": "stream",
     "text": [
      "{'ret': [{'contractRet': 'SUCCESS'}], 'signature': ['5059476943030d7836337357a03462fb4dbee4a58ff136987d8eed85eebf25be47ba177c3f9894ed6ddd26e2eb6e50a37079f56d7fb3807d532a1af5be8b7d7e01'], 'txID': '8797f872431dd1da484812b0b8413368216841425e318976d254ac334c4fca70', 'net_usage': 0, 'raw_data_hex': '0a0200e62208313be0ad1d7ccf854098e8f18d802f5aae01081f12a9010a31747970652e676f6f676c65617069732e636f6d2f70726f746f636f6c2e54726967676572536d617274436f6e747261637412740a154179309abcff2cf531070ca9222a1f72c4a5136874121541a614f803b6fd780986a42c78ec9c7f77e6ded13c2244a9059cbb000000000000000000000041010b9b1ae53560bb395c469b98f29a52c117644000000000000000000000000000000000000000000000000000000000048cb41070bdd1928c802f90018094ebdc03', 'net_fee': 48440, 'energy_usage': 1, 'block_timestamp': '1614933177000', 'blockNumber': '28180730', 'energy_fee': 2048200, 'energy_usage_total': 14631, 'raw_data': {'contract': [{'parameter': {'value': {'data': 'a9059cbb000000000000000000000041010b9b1ae53560bb395c469b98f29a52c117644000000000000000000000000000000000000000000000000000000000048cb410', 'owner_address': '4179309abcff2cf531070ca9222a1f72c4a5136874', 'contract_address': '41a614f803b6fd780986a42c78ec9c7f77e6ded13c'}, 'type_url': 'type.googleapis.com/protocol.TriggerSmartContract'}, 'type': 'TriggerSmartContract'}], 'ref_block_bytes': '00e6', 'ref_block_hash': '313be0ad1d7ccf85', 'expiration': 1614936831000, 'fee_limit': 1000000000, 'timestamp': 1614933174461}, 'internal_transactions': []}\n"
     ]
    }
   ],
   "source": [
    "url_get_contract_txn = \"https://api.trongrid.io/v1/contracts/{c_address}/transactions\".format(c_address = trc20_USDT)\n",
    "#限制返回结果的最小区块时间戳，以及每页的交易属（默认为20，最大为200）\n",
    "querystring = {\"min_block_timestamp\":\"1614761300000\", \"limit\":\"200\"} \n",
    "response = requests.request(\"GET\", url_get_contract_txn, params = querystring)\n",
    "print(json.loads(response.text)['data'][0])"
   ]
  },
  {
   "cell_type": "code",
   "execution_count": 8,
   "metadata": {},
   "outputs": [
    {
     "data": {
      "text/plain": [
       "{'1614933147000',\n",
       " '1614933150000',\n",
       " '1614933153000',\n",
       " '1614933156000',\n",
       " '1614933159000',\n",
       " '1614933162000',\n",
       " '1614933165000',\n",
       " '1614933168000',\n",
       " '1614933171000',\n",
       " '1614933174000',\n",
       " '1614933177000'}"
      ]
     },
     "execution_count": 8,
     "metadata": {},
     "output_type": "execute_result"
    }
   ],
   "source": [
    "#估算:最新的trc20-USDT交易  大约分布在10个区块中（大约需要三秒钟产生一个新的区块）\n",
    "set([i['block_timestamp'] for i in json.loads(response.text)['data']])"
   ]
  },
  {
   "cell_type": "markdown",
   "metadata": {},
   "source": [
    "### 获取合约历史Transfer事件"
   ]
  },
  {
   "cell_type": "code",
   "execution_count": 9,
   "metadata": {},
   "outputs": [
    {
     "name": "stdout",
     "output_type": "stream",
     "text": [
      "28180753\n",
      "{'ret': [{'contractRet': 'SUCCESS'}], 'signature': ['241ff9b08b228f5ad9b82942d334a6ecb60a4282956b69d8f68bcda45d9fa163d13b6e347c79ab9f830dad999bd3b1caf7bf929de0c32360bebeaeb8640ae6c001'], 'txID': '285d2d35e72125343e3e3cc27e992f786ef51afe6e2018fcaafc81c1f05bfe94', 'net_usage': 345, 'raw_data_hex': '0a0200fc2208fc2354ad57bd5f2040e88e9a8c802f5aae01081f12a9010a31747970652e676f6f676c65617069732e636f6d2f70726f746f636f6c2e54726967676572536d617274436f6e747261637412740a15419a51946b3b930fedcac65cc63f657508b178bbc6121541a614f803b6fd780986a42c78ec9c7f77e6ded13c2244a9059cbb000000000000000000000000eede73141a423de078a9e40c4d0531d1612e17b700000000000000000000000000000000000000000000000000000000082a744070dddc968c802f900180c2d72f', 'net_fee': 0, 'energy_usage': 0, 'block_timestamp': '1614933249000', 'blockNumber': '28180754', 'energy_fee': 2048340, 'energy_usage_total': 14631, 'raw_data': {'contract': [{'parameter': {'value': {'data': 'a9059cbb000000000000000000000000eede73141a423de078a9e40c4d0531d1612e17b700000000000000000000000000000000000000000000000000000000082a7440', 'owner_address': '419a51946b3b930fedcac65cc63f657508b178bbc6', 'contract_address': '41a614f803b6fd780986a42c78ec9c7f77e6ded13c'}, 'type_url': 'type.googleapis.com/protocol.TriggerSmartContract'}, 'type': 'TriggerSmartContract'}], 'ref_block_bytes': '00fc', 'ref_block_hash': 'fc2354ad57bd5f20', 'expiration': 1614933297000, 'fee_limit': 100000000, 'timestamp': 1614933241437}, 'internal_transactions': []}\n"
     ]
    }
   ],
   "source": [
    "url_get_contract_events = \"https://api.trongrid.io/v1/contracts/{c_address}/events\".format(c_address = trc20_USDT)\n",
    "#限制返回结果的最小区块时间戳，以及每页的交易属（默认为20，最大为200）\n",
    "querystring = {\"event_name\":\"Transfer\",\"block_number\":get_latest_block()[0],\"limit\":\"200\"}\n",
    "response = requests.request(\"GET\", url_get_contract_txn, params = querystring)\n",
    "print(querystring['block_number'])\n",
    "print(json.loads(response.text)['data'][0])"
   ]
  },
  {
   "cell_type": "code",
   "execution_count": 37,
   "metadata": {},
   "outputs": [
    {
     "data": {
      "text/plain": [
       "200"
      ]
     },
     "execution_count": 37,
     "metadata": {},
     "output_type": "execute_result"
    }
   ],
   "source": [
    "len(json.loads(response.text)['data'])"
   ]
  },
  {
   "cell_type": "code",
   "execution_count": 11,
   "metadata": {},
   "outputs": [
    {
     "data": {
      "text/plain": [
       "23"
      ]
     },
     "execution_count": 11,
     "metadata": {},
     "output_type": "execute_result"
    }
   ],
   "source": [
    "#以mainnet区块blockNumber 28180730 为例，其中的USDT交易仅有23笔\n",
    "len([i['blockNumber'] for i in json.loads(response.text)['data'] if i['blockNumber'] == str(querystring['block_number'])])"
   ]
  },
  {
   "cell_type": "code",
   "execution_count": 12,
   "metadata": {},
   "outputs": [
    {
     "data": {
      "text/plain": [
       "{'28180744',\n",
       " '28180745',\n",
       " '28180746',\n",
       " '28180747',\n",
       " '28180748',\n",
       " '28180749',\n",
       " '28180750',\n",
       " '28180751',\n",
       " '28180752',\n",
       " '28180753',\n",
       " '28180754'}"
      ]
     },
     "execution_count": 12,
     "metadata": {},
     "output_type": "execute_result"
    }
   ],
   "source": [
    "# 若声明每页的返回数为200且最新区块USDT交易不足200，则会返回之前区块的USDT交易信息\n",
    "set([i['blockNumber'] for i in json.loads(response.text)['data']])"
   ]
  },
  {
   "cell_type": "markdown",
   "metadata": {},
   "source": [
    "### 获取某一代币所有持有者的余额信息"
   ]
  },
  {
   "cell_type": "code",
   "execution_count": 21,
   "metadata": {},
   "outputs": [
    {
     "name": "stdout",
     "output_type": "stream",
     "text": [
      "[{'TMuA6YqfCeX8EhbfYEg5y7S4DqzSJireY9': '2500000000000000'}, {'TAUN6FwrnwwmaEqYcckffC7wYmbaS6cBiX': '1625246835257550'}, {'TNaRAoLUyYEV2uF7GUrzSjRQTU8v5ZJ5VR': '1114538033737597'}, {'TWd4WrZ9wn84f5x1hZhL4DHvk738ns5jwb': '700000000000000'}, {'TFsmkjujT9omG5TFrEXYbDocTdjeeHgcrQ': '600000007000124'}, {'TNMDwbHyAQo38tK4fCYe4ooSZXesbK8ExZ': '578000000000076'}, {'TM1zzNDZD2DPASbKcgdVoTYhfmYgtfwx9R': '440758301069313'}, {'TJyf3bMf5CXYe511EFPbN5dZ2W8edMnzsn': '420817281000042'}, {'TKHuVq1oKVruCGLvqVexFs6dawKv6fQgFs': '382181363328931'}, {'TXFBqBbqJommqZf7BV8NNYzePh97UmJodJ': '329928437497811'}]\n"
     ]
    }
   ],
   "source": [
    "url_get_tec20_balances = \"https://api.trongrid.io/v1/contracts/{c_address}/tokens\".format(c_address = trc20_USDT)\n",
    "querystring = {\"limit\":\"200\"} \n",
    "response = requests.request(\"GET\", url_get_tec20_balances, params = querystring)\n",
    "print(json.loads(response.text)['data'][:10])"
   ]
  },
  {
   "cell_type": "code",
   "execution_count": null,
   "metadata": {},
   "outputs": [],
   "source": []
  },
  {
   "cell_type": "markdown",
   "metadata": {},
   "source": [
    "CreateAccount\n",
    "在链上创建账号. 一个已经激活的账号创建一个新账号需要花费 0.1 TRX 或等值 Bandwidth.\n",
    "[https://cn.developers.tron.network/reference#%E5%9C%B0%E5%9D%80%E5%92%8C%E5%B8%90%E6%88%B7]"
   ]
  }
 ],
 "metadata": {
  "kernelspec": {
   "display_name": "Python 3",
   "language": "python",
   "name": "python3"
  },
  "language_info": {
   "codemirror_mode": {
    "name": "ipython",
    "version": 3
   },
   "file_extension": ".py",
   "mimetype": "text/x-python",
   "name": "python",
   "nbconvert_exporter": "python",
   "pygments_lexer": "ipython3",
   "version": "3.7.4"
  }
 },
 "nbformat": 4,
 "nbformat_minor": 2
}
